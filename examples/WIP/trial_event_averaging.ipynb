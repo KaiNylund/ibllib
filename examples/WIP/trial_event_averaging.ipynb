{
 "cells": [
  {
   "cell_type": "code",
   "execution_count": 1,
   "metadata": {},
   "outputs": [
    {
     "name": "stdout",
     "output_type": "stream",
     "text": [
      "Downloading: /Users/kainylund/Downloads/ONE/alyx.internationalbrainlab.org/tmpts1a8x04/cache.zip Bytes: 80403633\n"
     ]
    },
    {
     "name": "stderr",
     "output_type": "stream",
     "text": [
      "877321393it [00:15, 57702838.10it/s]                             \n"
     ]
    }
   ],
   "source": [
    "import numpy as np\n",
    "import matplotlib.pyplot as plt\n",
    "\n",
    "from one.api import ONE\n",
    "import brainbox.behavior.wheel as wh\n",
    "from brainbox.processing import *\n",
    "\n",
    "one = ONE(base_url='https://alyx.internationalbrainlab.org')"
   ]
  },
  {
   "cell_type": "code",
   "execution_count": 4,
   "metadata": {},
   "outputs": [],
   "source": [
    "def plot_event_avgs(clu_event_avgs, avg_event_idxs):\n",
    "  avgs = clu_event_avgs[\"avgs\"]\n",
    "  clusters = clu_event_avgs[\"clusters\"]\n",
    "  for event in avg_event_idxs:\n",
    "    plt.axvline(x=event, color=\"gray\")\n",
    "  for i in range(len(avgs[0])):\n",
    "    plt.plot(avgs[0][i])\n",
    "  plt.ylim(bottom=-1, top=50)\n",
    "  plt.title(\"Event averaged firing rates for \" + str(len(clusters)) + \" clusters in pid \" + pid)\n",
    "  plt.show()"
   ]
  },
  {
   "cell_type": "code",
   "execution_count": null,
   "metadata": {},
   "outputs": [],
   "source": [
    "SCALED_LEN = 250 # Number of values to interpolate spike rates into\n",
    "EID_INFO_PATH = \"./brainwide_eid_info.npy\"  # Path to eid info dictionary\n",
    "\n",
    "eid = \"0802ced5-33a3-405e-8336-b65ebc5cb07c\"\n",
    "pid = \"7d999a68-0215-4e45-8e6c-879c6ca2b771\"\n",
    "\n",
    "# Load all trial data\n",
    "all_trials, left_corr, left_inc, right_corr, right_inc = event_timing_by_trial_type(eid)\n",
    "\n",
    "# Precomputed avg value indices for stimon, first wheel move, and feedback when SCALED_LEN = 250\n",
    "avg_event_lengths = [37, 51, 62]  # UNITS: values\n",
    "avg_event_idxs = list(np.cumsum(avg_event_lengths)) # [37, 88, 150]\n",
    "event_names = [\"stimOn_times\", \"first_wheel_move\", \"feedback_times\"]\n",
    "\n",
    "# Since one of our events is first_wheel_move, append the correponding times to the\n",
    "# trial timing dataframes\n",
    "wheel = one.load_object(eid, 'wheel', collection='alf', attribute=['position', 'timestamps'])\n",
    "pos, t = wh.interpolate_position(wheel.timestamps, wheel.position, freq=1000)\n",
    "all_trials = append_session_wheel_movements(t, pos, all_trials)\n",
    "left_corr = append_session_wheel_movements(t, pos, left_corr)\n",
    "left_inc = append_session_wheel_movements(t, pos, left_inc)\n",
    "right_corr = append_session_wheel_movements(t, pos, right_corr)\n",
    "right_inc = append_session_wheel_movements(t, pos, right_inc)\n",
    "trial_timing_dfs = [all_trials, left_corr, left_inc]\n",
    "\n",
    "# Toy example for a single session at the repeated site\n",
    "clu_event_avgs = event_average_session_firing_rates(pid, trial_timing_dfs, event_names,\n",
    "                                                avg_event_idxs, scaled_len=SCALED_LEN)\n",
    "plot_event_avgs(clu_event_avgs, avg_event_idxs)"
   ]
  }
 ],
 "metadata": {
  "kernelspec": {
   "display_name": "Python 3.9.7 ('iblenv')",
   "language": "python",
   "name": "python3"
  },
  "language_info": {
   "codemirror_mode": {
    "name": "ipython",
    "version": 3
   },
   "file_extension": ".py",
   "mimetype": "text/x-python",
   "name": "python",
   "nbconvert_exporter": "python",
   "pygments_lexer": "ipython3",
   "version": "3.9.7"
  },
  "orig_nbformat": 4,
  "vscode": {
   "interpreter": {
    "hash": "1b79cc697ddc196fcbd3812a0fecb9e02805645f606693a7f93a85ad653c0c44"
   }
  }
 },
 "nbformat": 4,
 "nbformat_minor": 2
}
